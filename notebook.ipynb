{
 "cells": [
  {
   "cell_type": "markdown",
   "metadata": {},
   "source": [
    "Group name: Explanation is All You Need"
   ]
  },
  {
   "cell_type": "markdown",
   "metadata": {},
   "source": [
    "# Explaining Text Classifiers"
   ]
  },
  {
   "cell_type": "markdown",
   "metadata": {},
   "source": [
    "Our goal is to explain the prediction of a text classifier, detecting which part of the input text is responsible of a given prediction. For that we used SST-2 (Stanford Sentiment Treebank 2) dataset which consists of text and sentiment label pairs where the label 0 indicates negative sentiment 1 indicates positive sentiment."
   ]
  },
  {
   "cell_type": "code",
   "execution_count": 1,
   "metadata": {},
   "outputs": [],
   "source": [
    "import numpy as np\n",
    "import pandas as pd\n",
    "import seaborn as sns\n",
    "import matplotlib.pyplot as plt\n",
    "from sklearn.metrics.pairwise import cosine_similarity\n",
    "from tqdm import tqdm\n",
    "\n",
    "import datasets\n",
    "import string \n",
    "from collections import Counter\n",
    "\n",
    "import torch\n",
    "from torch import nn\n",
    "from torch.utils.data import DataLoader, Dataset, random_split\n",
    "import torch.nn.functional as F\n",
    "\n",
    "from load_glove import load_file, construct_embedding\n",
    "\n",
    "from ipywidgets import interact"
   ]
  },
  {
   "cell_type": "markdown",
   "metadata": {},
   "source": [
    "## The dataset\n",
    "\n",
    "We used SST-2, a sentiment anlysis dataset which contains thousands of text/sentiment pairs."
   ]
  },
  {
   "cell_type": "code",
   "execution_count": 2,
   "metadata": {},
   "outputs": [
    {
     "name": "stderr",
     "output_type": "stream",
     "text": [
      "Reusing dataset glue (C:\\Users\\urchade\\.cache\\huggingface\\datasets\\glue\\sst2\\1.0.0\\7c99657241149a24692c402a5c3f34d4c9f1df5ac2e4c3759fadea38f6cb29c4)\n"
     ]
    }
   ],
   "source": [
    "sst2_dataset = datasets.load_dataset('glue', 'sst2')"
   ]
  },
  {
   "cell_type": "code",
   "execution_count": 3,
   "metadata": {},
   "outputs": [],
   "source": [
    "labels = sst2_dataset['train']['label']\n",
    "texts = sst2_dataset['train']['sentence']"
   ]
  },
  {
   "cell_type": "markdown",
   "metadata": {},
   "source": [
    "The dataset contains 29780 negative texts and 37569 positives."
   ]
  },
  {
   "cell_type": "code",
   "execution_count": 4,
   "metadata": {},
   "outputs": [
    {
     "data": {
      "text/plain": [
       "Counter({0: 29780, 1: 37569})"
      ]
     },
     "execution_count": 4,
     "metadata": {},
     "output_type": "execute_result"
    }
   ],
   "source": [
    "Counter(labels)"
   ]
  },
  {
   "cell_type": "markdown",
   "metadata": {},
   "source": [
    "## Preprocessing"
   ]
  },
  {
   "cell_type": "markdown",
   "metadata": {},
   "source": [
    "### Tokenization"
   ]
  },
  {
   "cell_type": "code",
   "execution_count": 5,
   "metadata": {},
   "outputs": [],
   "source": [
    "def tokenize(text: str):\n",
    "    \"\"\"Tokenize a text by removing punctuation\"\"\"\n",
    "    \n",
    "    text = text.lower().split()\n",
    "        \n",
    "    return [t.strip(string.punctuation) for t in text if t not in string.punctuation]"
   ]
  },
  {
   "cell_type": "code",
   "execution_count": 8,
   "metadata": {},
   "outputs": [
    {
     "data": {
      "text/plain": [
       "['i', 'am', 'happy']"
      ]
     },
     "execution_count": 8,
     "metadata": {},
     "output_type": "execute_result"
    }
   ],
   "source": [
    "# Tokenization example\n",
    "\n",
    "tokenize('I/ am happy , .')"
   ]
  },
  {
   "cell_type": "markdown",
   "metadata": {},
   "source": [
    "### Vocabulary construction"
   ]
  },
  {
   "cell_type": "code",
   "execution_count": 9,
   "metadata": {},
   "outputs": [
    {
     "data": {
      "text/plain": [
       "[('the', 27205), ('a', 21609), ('and', 19920), ('of', 17907), ('to', 12538)]"
      ]
     },
     "execution_count": 9,
     "metadata": {},
     "output_type": "execute_result"
    }
   ],
   "source": [
    "### List of all tokens from the dataset\n",
    "all_tokens = [tokens for sent in texts for tokens in tokenize(sent)]\n",
    "\n",
    "# count tokens\n",
    "token_counts = Counter(all_tokens)\n",
    "\n",
    "# The most common words are the, a, and ... etc\n",
    "token_counts.most_common()[:5]"
   ]
  },
  {
   "cell_type": "code",
   "execution_count": 10,
   "metadata": {},
   "outputs": [
    {
     "name": "stdout",
     "output_type": "stream",
     "text": [
      "['the', 'a', 'and', 'of', 'to', 's', 'is', 'that', 'in', 'it']\n"
     ]
    }
   ],
   "source": [
    "# Here we create our vocabulary\n",
    "\n",
    "min_freq = 3\n",
    "\n",
    "vocab = [a[0] for a in list(filter(lambda x: x[1] >= min_freq, token_counts.most_common()))]\n",
    "\n",
    "print(vocab[:10])"
   ]
  },
  {
   "cell_type": "code",
   "execution_count": 11,
   "metadata": {},
   "outputs": [
    {
     "name": "stdout",
     "output_type": "stream",
     "text": [
      "['[PAD]', '[UNK]', 'the', 'a', 'and']\n"
     ]
    }
   ],
   "source": [
    "# Add a padding token and a UNK token to our vocabulary\n",
    "\n",
    "pad_token = '[PAD]'\n",
    "unk_token = '[UNK]'\n",
    "\n",
    "vocab.insert(0, pad_token)\n",
    "vocab.insert(1, unk_token)\n",
    "\n",
    "print(vocab[:5])"
   ]
  },
  {
   "cell_type": "code",
   "execution_count": 12,
   "metadata": {},
   "outputs": [
    {
     "name": "stdout",
     "output_type": "stream",
     "text": [
      "man => 206\n"
     ]
    }
   ],
   "source": [
    "id2word = dict(enumerate(vocab)) # a dict that map an Id to a word\n",
    "word2id = {v:k for (k, v) in id2word.items()} # inverse mapping\n",
    "\n",
    "print(f\"man => {word2id['man']}\")"
   ]
  },
  {
   "cell_type": "code",
   "execution_count": 13,
   "metadata": {},
   "outputs": [
    {
     "name": "stdout",
     "output_type": "stream",
     "text": [
      "there is 13481 unique tokens in the vocabulary\n"
     ]
    }
   ],
   "source": [
    "print(f'there is {len(vocab)} unique tokens in the vocabulary')"
   ]
  },
  {
   "cell_type": "markdown",
   "metadata": {},
   "source": [
    "### Text to sequence of IDs"
   ]
  },
  {
   "cell_type": "code",
   "execution_count": 14,
   "metadata": {},
   "outputs": [
    {
     "name": "stdout",
     "output_type": "stream",
     "text": [
      "the movie was great == > [2, 19, 93, 96]\n"
     ]
    }
   ],
   "source": [
    "def sent2ids(text: str):\n",
    "    \"\"\"Convert a text to a sequence of IDs\"\"\"\n",
    "    sent = []\n",
    "    \n",
    "    tokens = tokenize(text)\n",
    "    \n",
    "    for word in tokens:\n",
    "        \n",
    "        try:\n",
    "            id_w = word2id[word]\n",
    "            \n",
    "        except KeyError:\n",
    "            id_w = word2id['[UNK]']\n",
    "        \n",
    "        sent.append(id_w)\n",
    "        \n",
    "    return sent\n",
    "\n",
    "# Example\n",
    "\n",
    "s = 'the movie was great'\n",
    "print(f\"{s} == > {sent2ids(s)}\")"
   ]
  },
  {
   "cell_type": "markdown",
   "metadata": {},
   "source": [
    "### Pre-trained word vectors"
   ]
  },
  {
   "cell_type": "code",
   "execution_count": 15,
   "metadata": {},
   "outputs": [
    {
     "name": "stderr",
     "output_type": "stream",
     "text": [
      "100%|████████████████████████████████████████████████████████████████████████| 400000/400000 [00:42<00:00, 9463.66it/s]\n",
      "100%|████████████████████████████████████████████████████████████████████████| 13481/13481 [00:00<00:00, 300377.77it/s]"
     ]
    },
    {
     "name": "stdout",
     "output_type": "stream",
     "text": [
      "loaded = 12564/13481\n"
     ]
    },
    {
     "name": "stderr",
     "output_type": "stream",
     "text": [
      "\n"
     ]
    }
   ],
   "source": [
    "# Optionnal: Use pretrained word vectors for better classification results\n",
    "\n",
    "glove_embedding = None\n",
    "use_glove = True \n",
    "\n",
    "glove_file = 'glove.6B.50d.txt' # download from http://nlp.stanford.edu/data/glove.6B.zip\n",
    "vect_dim = 50\n",
    "\n",
    "if use_glove:\n",
    "    \n",
    "    # load glove\n",
    "    glove_vec = load_file(glove_file)\n",
    "    \n",
    "    # construct the embedding matrix given id2word\n",
    "    glove_embedding = construct_embedding(glove_vec, id2word, dim=vect_dim)\n",
    "    \n",
    "    # convert the embedding matrix to torch tensor\n",
    "    glove_embedding = torch.Tensor(glove_embedding)"
   ]
  },
  {
   "cell_type": "markdown",
   "metadata": {},
   "source": [
    "### Pytorch Dataset"
   ]
  },
  {
   "cell_type": "code",
   "execution_count": 16,
   "metadata": {},
   "outputs": [],
   "source": [
    "class TextDataset(Dataset):\n",
    "    \n",
    "    def __init__(self, texts: list, labels: list):\n",
    "        \n",
    "        self.labels = labels\n",
    "        self.texts = texts\n",
    "        \n",
    "    def __len__(self):\n",
    "        return len(self.texts)\n",
    "    \n",
    "    def __getitem__(self, idx):\n",
    "        \n",
    "        x = sent2ids(self.texts[idx])\n",
    "        \n",
    "        y = self.labels[idx]\n",
    "        \n",
    "        # handle empty text\n",
    "        if len(x) == 0:\n",
    "            return self.__getitem__(np.random.randint(0, len(self)))\n",
    "        \n",
    "        return x, y"
   ]
  },
  {
   "cell_type": "markdown",
   "metadata": {},
   "source": [
    "### Collation"
   ]
  },
  {
   "cell_type": "code",
   "execution_count": 17,
   "metadata": {},
   "outputs": [],
   "source": [
    "def pad_seq(sequence_list, max_seq):\n",
    "    \n",
    "    \"\"\"Padding/Truncate a list of sequences to max_seq\"\"\"\n",
    "    \n",
    "    max_batch = max([s.shape[0] for s in sequence_list])\n",
    "    \n",
    "    result = np.zeros((len(sequence_list), max_batch))\n",
    "    \n",
    "    for i in range(len(sequence_list)):\n",
    "        \n",
    "        array_i = sequence_list[i]\n",
    "\n",
    "        dim_1 = array_i.shape[0]\n",
    "        \n",
    "        result[i, :dim_1] += array_i\n",
    "        \n",
    "    if max_batch > max_seq:\n",
    "        result = result[:, :max_seq]\n",
    "    \n",
    "    return torch.LongTensor(result)\n",
    "\n",
    "\n",
    "def collate(batch):\n",
    "        \n",
    "    src = pad_seq([np.array(item[0]) for item in batch], max_seq=50)\n",
    "        \n",
    "    y = torch.FloatTensor([item[1] for item in batch])\n",
    "        \n",
    "    return [src, y]"
   ]
  },
  {
   "cell_type": "markdown",
   "metadata": {},
   "source": [
    "### Data splitting and DataLoaders"
   ]
  },
  {
   "cell_type": "code",
   "execution_count": 18,
   "metadata": {},
   "outputs": [],
   "source": [
    "config = {\n",
    "    'train_bs': 1024,\n",
    "    'val_bs': 128,\n",
    "    'val_size': 5000,\n",
    "}\n",
    "\n",
    "\n",
    "dataset = TextDataset(texts, labels)\n",
    "\n",
    "train, val = random_split(dataset, [len(dataset)-config['val_size'], config['val_size']])\n",
    "\n",
    "loader = DataLoader(train, config['train_bs'], True, collate_fn=collate, drop_last=True)\n",
    "\n",
    "val_load = DataLoader(val, config['val_bs'], False, collate_fn=collate)"
   ]
  },
  {
   "cell_type": "markdown",
   "metadata": {},
   "source": [
    "## Models architecture"
   ]
  },
  {
   "cell_type": "markdown",
   "metadata": {},
   "source": [
    "### Encoders"
   ]
  },
  {
   "cell_type": "code",
   "execution_count": 20,
   "metadata": {},
   "outputs": [],
   "source": [
    "## Simple encoder: Embedding layer + mlp\n",
    "\n",
    "class SimpleEncoder(nn.Module):    \n",
    "    def __init__(self, n_words: int, emb_dim: int, hidden_dim: int, embedding_weight: torch.Tensor=None):\n",
    "        super().__init__()\n",
    "        \n",
    "        # Embedding layer\n",
    "        self.embedding = nn.Embedding(n_words, emb_dim, padding_idx=0, _weight=embedding_weight)\n",
    "        \n",
    "        # Multi-Layer Perceptron\n",
    "        self.mlp = nn.Sequential(\n",
    "            nn.Linear(emb_dim, hidden_dim),\n",
    "            nn.ReLU(),\n",
    "            nn.Linear(hidden_dim, hidden_dim)\n",
    "        )\n",
    "        \n",
    "    def forward(self, x: torch.LongTensor):\n",
    "        \"\"\"\n",
    "        x: input IDs of shape [batch_size, seq_len]\n",
    "        \"\"\"\n",
    "                \n",
    "        out = self.embedding(x) # [batch_size, seq_len, emb_dim]\n",
    "        \n",
    "        return self.mlp(out) # [batch_size, seq_len, hidden_dim]"
   ]
  },
  {
   "cell_type": "code",
   "execution_count": 21,
   "metadata": {},
   "outputs": [],
   "source": [
    "## RNN encoder: Embedding layer + Bi-LSTM\n",
    "\n",
    "class RnnEncoder(nn.Module):\n",
    "    \n",
    "    def __init__(self, n_words: int, emb_dim: int, hidden_dim: int, embedding_weight: torch.Tensor=None):\n",
    "        super().__init__()\n",
    "        \n",
    "        # Embedding layer\n",
    "        self.embedding = nn.Embedding(n_words, emb_dim, padding_idx=0, _weight=embedding_weight)\n",
    "        \n",
    "        # Bi-LSTM Layer\n",
    "        self.rnn = nn.LSTM(emb_dim, hidden_dim, batch_first=True, bidirectional=True)\n",
    "        \n",
    "        # Projection\n",
    "        self.W = nn.Linear(hidden_dim*2, hidden_dim)\n",
    "        \n",
    "    def forward(self, x: torch.LongTensor):\n",
    "        \"\"\"\n",
    "        x: input IDs of shape [batch_size, seq_len]\n",
    "        \"\"\"\n",
    "        \n",
    "        bs, max_len = x.size()\n",
    "        \n",
    "        lens = (x != 0).sum(1).cpu()\n",
    "                \n",
    "        embs = self.embedding(x) # [batch_size, seq_len, emb_dim]\n",
    "            \n",
    "        packed = nn.utils.rnn.pack_padded_sequence(embs, lens, batch_first=True, enforce_sorted=False)\n",
    "        \n",
    "        out_packed, *_ = self.rnn(packed)\n",
    "        \n",
    "        unpacked, _ = nn.utils.rnn.pad_packed_sequence(out_packed, batch_first=True)\n",
    "        \n",
    "        return self.W(unpacked) # [batch_size, seq_len, hidden_dim]"
   ]
  },
  {
   "cell_type": "markdown",
   "metadata": {},
   "source": [
    "### Attention Layer\n",
    "\n",
    "We employ the scaled dot product attention (Vaswani et al., 2017):"
   ]
  },
  {
   "cell_type": "markdown",
   "metadata": {},
   "source": [
    "<img src=\"images/dot_prod_att.PNG\" width=\"300\" />"
   ]
  },
  {
   "cell_type": "code",
   "execution_count": 22,
   "metadata": {},
   "outputs": [],
   "source": [
    "# Attention layer\n",
    "\n",
    "class DotProductAttention(nn.Module):\n",
    "    def __init__(self, dim: int):\n",
    "        \n",
    "        super().__init__()\n",
    "        \n",
    "        self.dim = dim\n",
    "        \n",
    "        # Parameter: Query vector \n",
    "        self.query = nn.Parameter(data=torch.randn(1, self.dim))\n",
    "        \n",
    "        # Key Linear Transform\n",
    "        self.Wk = nn.Linear(self.dim, self.dim, bias=False)\n",
    "        \n",
    "        # Value Linear Transform\n",
    "        self.Wv = nn.Linear(self.dim, self.dim, bias=False)\n",
    "        \n",
    "    def forward(self, hidden: torch.Tensor, mask: torch.BoolTensor=None):\n",
    "        \"\"\"\n",
    "        hidden: Tokens representations of shape [batch_size, seq_len, dim]\n",
    "        mask: Attention mask of shape [batch_size, seq_len]\n",
    "        \"\"\"\n",
    "        \n",
    "        bs, *_ = hidden.size()\n",
    "        \n",
    "        # key tensor\n",
    "        key = self.Wk(hidden) # [batch_size, seq_len, dim]\n",
    "        \n",
    "        # value\n",
    "        value = self.Wv(hidden) # [batch_size, seq_len, dim]\n",
    "        \n",
    "        # query\n",
    "        query = self.query.expand(bs, self.dim).reshape(bs, self.dim, 1) # [batch_size, dim, 1]\n",
    "        \n",
    "        score = torch.bmm(key, query) # [batch_size, seq_len, 1]\n",
    "        \n",
    "        score /= np.sqrt(self.dim) # scale \n",
    "        \n",
    "        if mask is not None:\n",
    "            score = score.masked_fill(mask.reshape(score.shape), float('-inf'))\n",
    "            \n",
    "        attention = torch.softmax(score, dim = 1) # [batch_size, seq_len, 1]\n",
    "        \n",
    "        output = attention * value # [batch_size, seq_len, dim]\n",
    "        \n",
    "        return output, attention"
   ]
  },
  {
   "cell_type": "markdown",
   "metadata": {},
   "source": [
    "### Text classifier"
   ]
  },
  {
   "cell_type": "code",
   "execution_count": 23,
   "metadata": {},
   "outputs": [],
   "source": [
    "# Text classifier: Encoder + Attention Layer + Fully connected Layers\n",
    "\n",
    "class AttentionClassifier(nn.Module):\n",
    "    \n",
    "    def __init__(self, n_words: int, emb_dim: int, hidden_dim: int, encoder: str='simple', embedding_weight: torch.Tensor=None):\n",
    "        super().__init__()\n",
    "        \n",
    "        if encoder == 'rnn':\n",
    "            self.encode = RnnEncoder(n_words, emb_dim, hidden_dim, embedding_weight)\n",
    "        elif encoder == 'simple':\n",
    "            self.encode = SimpleEncoder(n_words, emb_dim, hidden_dim, embedding_weight)\n",
    "        \n",
    "        self.attention_layer = DotProductAttention(hidden_dim)\n",
    "        \n",
    "        self.fc = nn.Sequential(\n",
    "            nn.Linear(hidden_dim, 1),\n",
    "            nn.Sigmoid()\n",
    "        )\n",
    "        \n",
    "    def forward(self, x, mask=None):\n",
    "        \"\"\"\n",
    "        x: Input Ids of shape [batch_size, seq_len]\n",
    "        mask: Attention mask of shape [batch_size, seq_len]\n",
    "        \"\"\"\n",
    "        \n",
    "        encoded_sequence = self.encode(x) # [batch_size, hidden_dim]\n",
    "        \n",
    "        out, attention_score = self.attention_layer(encoded_sequence, mask)\n",
    "        \n",
    "        out = out.mean(1) # [batch_size, hidden_dim]\n",
    "        \n",
    "        y = self.fc(out) # [batch_size, 1]\n",
    "        \n",
    "        return y, attention_score # output the prediction and attention weight\n",
    "    \n",
    "    def compute_loss(self, x: torch.LongTensor, y: torch.FloatTensor, mask: torch.BoolTensor=None):\n",
    "        \"\"\"\n",
    "        Compute the binary cross-entropy loss\n",
    "        \n",
    "        x: Input Ids of shape [batch_size, seq_len]\n",
    "        y: Labels of shape [batch_size]\n",
    "        mask: Attention mask of shape [batch_size, seq_len]\n",
    "        \"\"\"\n",
    "        y_, attention_score = self.forward(x, mask)\n",
    "        \n",
    "        loss = F.binary_cross_entropy(y_.squeeze(), y)\n",
    "        \n",
    "        return loss, self.accuracy(y_, y) # return the loss and accuracy\n",
    "    \n",
    "    @torch.no_grad()\n",
    "    def accuracy(self, y_, y):\n",
    "        \n",
    "        y_ = (y_.squeeze() > 0.5).float()\n",
    "        \n",
    "        return (y == y_).float().mean()"
   ]
  },
  {
   "cell_type": "markdown",
   "metadata": {},
   "source": [
    "The model is similar to this one from (Wiegreffe and Pinter, 2019):\n",
    "\n",
    "  <img src=\"images/model.PNG\" width=\"500\" />"
   ]
  },
  {
   "cell_type": "code",
   "execution_count": 25,
   "metadata": {},
   "outputs": [],
   "source": [
    "device = 'cpu'\n",
    "\n",
    "if torch.cuda.is_available():\n",
    "    device = 'cuda'\n",
    "\n",
    "model = AttentionClassifier(n_words=len(vocab), emb_dim=50, hidden_dim=64,\n",
    "                           encoder='simple',\n",
    "                           embedding_weight=glove_embedding).to(device)\n",
    "\n",
    "optimizer = torch.optim.AdamW(model.parameters())"
   ]
  },
  {
   "cell_type": "code",
   "execution_count": 26,
   "metadata": {},
   "outputs": [
    {
     "name": "stderr",
     "output_type": "stream",
     "text": [
      "0 || Train_loss =  0.580 || Train_acc =  0.545 || Valid_acc =  0.000: : 60it [00:06,  9.37it/s]\n",
      "1 || Train_loss =  0.380 || Train_acc =  0.811 || Valid_acc =  0.717: : 60it [00:05, 10.97it/s]\n",
      "2 || Train_loss =  0.252 || Train_acc =  0.877 || Valid_acc =  0.859: : 60it [00:04, 12.91it/s]\n",
      "3 || Train_loss =  0.252 || Train_acc =  0.904 || Valid_acc =  0.891: : 60it [00:04, 12.67it/s]\n",
      "4 || Train_loss =  0.193 || Train_acc =  0.92 || Valid_acc =  0.892: : 60it [00:04, 13.04it/s] \n",
      "5 || Train_loss =  0.172 || Train_acc =  0.931 || Valid_acc =  0.912: : 60it [00:05, 11.38it/s]\n",
      "6 || Train_loss =  0.149 || Train_acc =  0.938 || Valid_acc =  0.915: : 60it [00:05, 11.93it/s]\n",
      "7 || Train_loss =  0.154 || Train_acc =  0.943 || Valid_acc =  0.917: : 60it [00:04, 12.38it/s]\n",
      "8 || Train_loss =  0.118 || Train_acc =  0.949 || Valid_acc =  0.919: : 60it [00:04, 12.50it/s]\n",
      "9 || Train_loss =  0.120 || Train_acc =  0.952 || Valid_acc =  0.918: : 60it [00:04, 12.62it/s]\n"
     ]
    },
    {
     "name": "stdout",
     "output_type": "stream",
     "text": [
      "Final validation accuracy =  0.920\n"
     ]
    }
   ],
   "source": [
    "n_epochs = 10\n",
    "\n",
    "val_acc_ = [0]\n",
    "\n",
    "for ep in range(n_epochs):\n",
    "    \n",
    "    pbar = tqdm(enumerate(loader), leave=None)\n",
    "    \n",
    "    model.train()\n",
    "    \n",
    "    acc_ = []\n",
    "    \n",
    "    for i, (x, y) in pbar:\n",
    "\n",
    "        optimizer.zero_grad()\n",
    "        \n",
    "        m = x==0\n",
    "        \n",
    "        x, y, m = x.to(device), y.to(device), m.to(device)\n",
    "\n",
    "        loss, acc = model.compute_loss(x, y, m)\n",
    "\n",
    "        loss.backward()\n",
    "\n",
    "        optimizer.step()\n",
    "        \n",
    "        acc_.append(acc.item())\n",
    "        \n",
    "        pbar.set_description(f\"{ep} || Train_loss = {loss.item(): .3f} || Train_acc = {np.array(acc_).mean(): .3} || Valid_acc = {np.array(val_acc_).mean(): .3f}\")\n",
    "        \n",
    "    with torch.no_grad():\n",
    "        model.eval()\n",
    "        \n",
    "        val_acc_ = []\n",
    "        \n",
    "        for x, y in val_load:\n",
    "            \n",
    "            m = x==0\n",
    "            \n",
    "            x, y, m = x.to(device), y.to(device), m.to(device)\n",
    "\n",
    "            loss, acc = model.compute_loss(x, y, m)\n",
    "            \n",
    "            val_acc_.append(acc.item())\n",
    "        \n",
    "        if ep == n_epochs-1:\n",
    "            print(f\"Final validation accuracy = {np.array(val_acc_).mean(): .3f}\")"
   ]
  },
  {
   "cell_type": "markdown",
   "metadata": {},
   "source": [
    "# Interpretation"
   ]
  },
  {
   "cell_type": "code",
   "execution_count": 27,
   "metadata": {},
   "outputs": [
    {
     "name": "stdout",
     "output_type": "stream",
     "text": [
      "Evaluation mode !\n"
     ]
    }
   ],
   "source": [
    "model.eval()\n",
    "model.cpu()\n",
    "print('Evaluation mode !')"
   ]
  },
  {
   "cell_type": "code",
   "execution_count": 40,
   "metadata": {},
   "outputs": [
    {
     "name": "stdout",
     "output_type": "stream",
     "text": [
      "tensor = tensor([[  51, 1089,   20,   19]]) \n",
      "tokens = ['i', 'hate', 'this', 'movie']\n",
      "attention_score = [0.03606517 0.9513782  0.00638908 0.00616754] \n",
      "prediction = 1.260003756644323e-20\n"
     ]
    }
   ],
   "source": [
    "def transform_text(text: str):\n",
    "    \n",
    "    sequence = sent2ids(text.lower())\n",
    "    \n",
    "    tokens = []\n",
    "    \n",
    "    for word_id in sequence:\n",
    "        \n",
    "        word = id2word[word_id]\n",
    "        \n",
    "        tokens.append(word)\n",
    "        \n",
    "    x = torch.LongTensor(sequence).reshape(1, -1) # convert to torch\n",
    "    \n",
    "    return x, tokens\n",
    "\n",
    "tensor, tokens = transform_text('i hate this movie')\n",
    "\n",
    "print(f'tensor = {tensor} \\ntokens = {tokens}')\n",
    "\n",
    "\n",
    "# This function returns the prediction and the attention weigths given a sequence\n",
    "@torch.no_grad()\n",
    "def predict(sequence: torch.LongTensor, model: nn.Module):\n",
    "    \n",
    "    pred, attention = model(sequence)\n",
    "    \n",
    "    return pred.item(), attention.squeeze().numpy()\n",
    "\n",
    "prediction, attention_score = predict(tensor, model)\n",
    "\n",
    "print(f'attention_score = {attention_score} \\nprediction = {prediction}')"
   ]
  },
  {
   "cell_type": "markdown",
   "metadata": {},
   "source": [
    "## Attention-based explanation"
   ]
  },
  {
   "cell_type": "markdown",
   "metadata": {},
   "source": [
    "Our first approach is to explain our model prediction using the attention score produced by the model's attention module. The intuition is that the model will focus on the most important words in order to make his prediction. This approach is widely used in the Deep Learning literature, for example in Neural Machine Translation (Bahdanau et al., 2015) or Natural Language Inference (Parikh et al., 2016). However, the use of attention for explaining Deep Learning models remains controversial (Jain and Wallace, 2019; Wiegreffe and Pinter, 2019).\n",
    "\n",
    "* Attention is not explanation (Jain and Wallace, 2019)\n",
    "* Attention is not not explanation (Wiegreffe and Pinter, 2019)\n"
   ]
  },
  {
   "cell_type": "markdown",
   "metadata": {},
   "source": [
    "##### Attention for Neural Machine Translation: Image from Bahdanau et al. (2015)\n",
    "\n",
    "\n",
    "<p align=\"center\">\n",
    "  <img src=\"images/bahdanau.PNG\" width=\"300\" />\n",
    "</p>"
   ]
  },
  {
   "cell_type": "markdown",
   "metadata": {},
   "source": [
    "**Hohman et al.'s human-centered interrogative framework**:\n",
    "\n",
    "    - Why:\n",
    "        - Interpretability and explainability\n",
    "        - Detecting bias in the dataset/model\n",
    "\n",
    "    - What:\n",
    "        - The attention weights\n",
    "\n",
    "    - When:\n",
    "        - After training\n",
    "\n",
    "    - Who:\n",
    "        - Model developers\n",
    "        - Model Users\n",
    "        - Non-experts\n",
    "\n",
    "    - How:\n",
    "        - Visualize feature importance using saliency maps\n",
    "        \n",
    "    - Where:\n",
    "        - Application domains"
   ]
  },
  {
   "cell_type": "code",
   "execution_count": 29,
   "metadata": {},
   "outputs": [],
   "source": [
    "# @interact(text='the movie is not bad')\n",
    "def explain_with_attention(text: str):\n",
    "    \n",
    "    model.cpu()\n",
    "    model.eval() # eval mode\n",
    "            \n",
    "    seq_torch, word_sequence = transform_text(text)\n",
    "    \n",
    "    pred, attention = predict(seq_torch, model) # prediction + attention weights\n",
    "\n",
    "    heatmap = pd.DataFrame(data = attention.reshape(1, -1), columns=word_sequence)\n",
    "\n",
    "    plt.figure(figsize=(20, 2))\n",
    "    \n",
    "    sns.heatmap(heatmap, annot=True, yticklabels=False, cmap='Reds')\n",
    "    \n",
    "    if pred > 0.5:\n",
    "        print(f'positive => {pred: 0.3f}')\n",
    "    \n",
    "    else:\n",
    "        print(f'negative => {pred: 0.3f}')"
   ]
  },
  {
   "cell_type": "code",
   "execution_count": 30,
   "metadata": {},
   "outputs": [
    {
     "name": "stdout",
     "output_type": "stream",
     "text": [
      "positive =>  1.000\n"
     ]
    },
    {
     "data": {
      "image/png": "[encoded data removed]",
      "text/plain": [
       "<Figure size 1440x144 with 2 Axes>"
      ]
     },
     "metadata": {
      "needs_background": "light"
     },
     "output_type": "display_data"
    }
   ],
   "source": [
    "explain_with_attention('the movie is good')"
   ]
  },
  {
   "cell_type": "code",
   "execution_count": 31,
   "metadata": {},
   "outputs": [],
   "source": [
    "# Here we extract positive/negative words from the validation dataset\n",
    "# => take the words that has gotten the most attention during a forward pass to model\n",
    "\n",
    "confidence = 0.9999\n",
    "\n",
    "positive_words = []\n",
    "negative_words = []\n",
    "\n",
    "with torch.no_grad():\n",
    "    \n",
    "    model.eval()\n",
    "\n",
    "    for x, y in val_load:\n",
    "\n",
    "        m = x==0 # mask\n",
    "        y_hat, attention_score = model.forward(x, m)\n",
    "        \n",
    "        att_word = torch.argmax(attention_score.squeeze(), dim=1)\n",
    "        \n",
    "        for a, w, yy in zip(att_word, x, y_hat):\n",
    "            \n",
    "            if yy > confidence:\n",
    "                positive_words.append(id2word[w[a].item()])\n",
    "                \n",
    "            elif yy < 1 - confidence:\n",
    "                negative_words.append(id2word[w[a].item()])"
   ]
  },
  {
   "cell_type": "markdown",
   "metadata": {},
   "source": [
    "#### positive words: "
   ]
  },
  {
   "cell_type": "code",
   "execution_count": 32,
   "metadata": {
    "scrolled": true
   },
   "outputs": [
    {
     "data": {
      "text/plain": [
       "['sustains',\n",
       " 'inimitable',\n",
       " 'penetrating',\n",
       " 'playful',\n",
       " 'admirable',\n",
       " 'sought',\n",
       " 'sweet',\n",
       " 'fantasy',\n",
       " 'continues',\n",
       " 'astonishing',\n",
       " 'broadway',\n",
       " 'engage',\n",
       " 'significant',\n",
       " 'feat',\n",
       " 'draws',\n",
       " 'exhilarating',\n",
       " 'collectively',\n",
       " 'pearls',\n",
       " 'panache',\n",
       " 'valiant',\n",
       " 'monumental',\n",
       " 'exotic',\n",
       " 'intelligently',\n",
       " 'distinctive',\n",
       " 'innovators',\n",
       " 'welcome',\n",
       " 'strategies',\n",
       " 'tasteful',\n",
       " 'laughter',\n",
       " 'charismatic',\n",
       " 'clever',\n",
       " 'manages',\n",
       " 'superior',\n",
       " 'craftsmanship',\n",
       " 'gorgeously',\n",
       " 'tour',\n",
       " 'challenges',\n",
       " 'undoubtedly',\n",
       " 'right',\n",
       " 'hopeful',\n",
       " 'recovery',\n",
       " 'anchoring',\n",
       " 'beautifully',\n",
       " 'professionals',\n",
       " 'fun',\n",
       " 'creates',\n",
       " 'thought-provoking',\n",
       " 'lyrical',\n",
       " 'transcendence',\n",
       " 'portrayal',\n",
       " 'elusive',\n",
       " 'incredible',\n",
       " 'companionship',\n",
       " 'a-list',\n",
       " 'edge',\n",
       " 'stagings',\n",
       " 'charisma',\n",
       " 'fearlessness',\n",
       " 'techniques',\n",
       " 'exciting',\n",
       " 'acclaim',\n",
       " 'thoughtful',\n",
       " 'goofily',\n",
       " 'heartfelt',\n",
       " 'distinguished',\n",
       " 'pretty',\n",
       " 'entertaining',\n",
       " 'sights',\n",
       " 'righteousness',\n",
       " 'salton',\n",
       " 'love',\n",
       " 'sweetly',\n",
       " 'production',\n",
       " 'works',\n",
       " 'oddly',\n",
       " 'crafty',\n",
       " 'achievements',\n",
       " 'merits',\n",
       " 'smoothly',\n",
       " 'choreography',\n",
       " 'ages',\n",
       " 'eager',\n",
       " 'grandeur',\n",
       " 'breadth',\n",
       " 'gem',\n",
       " 'quirkily',\n",
       " 'yarn',\n",
       " 'instructive',\n",
       " 'handsome',\n",
       " 'feel-good',\n",
       " 'wry',\n",
       " 'optimism',\n",
       " 'high-octane',\n",
       " 'jia',\n",
       " 'commanding',\n",
       " 'well',\n",
       " 'anchor',\n",
       " 'striking',\n",
       " 'revel',\n",
       " 'serene',\n",
       " 'companionable',\n",
       " 'glorious',\n",
       " 'holly',\n",
       " 'explore',\n",
       " 'pleasing',\n",
       " 'proud',\n",
       " 'modest',\n",
       " 'bliss',\n",
       " 'sisters',\n",
       " 'funny',\n",
       " 'bravery',\n",
       " 'elegance',\n",
       " 'splendid',\n",
       " 'engaging',\n",
       " 'scenery',\n",
       " 'sincere',\n",
       " 'wonders',\n",
       " 'meditation',\n",
       " 'yearnings',\n",
       " 'nice',\n",
       " 'important',\n",
       " 'stars',\n",
       " 'wickedly',\n",
       " 'genuine',\n",
       " 'above-average',\n",
       " 'impeccable',\n",
       " 'high-concept',\n",
       " 'simplicity',\n",
       " 'earnest',\n",
       " 'meaningful',\n",
       " 'paxton',\n",
       " 'best',\n",
       " 'chinese',\n",
       " 'riveting',\n",
       " 'consistently',\n",
       " 'perfect',\n",
       " 'diamond',\n",
       " 'warm',\n",
       " 'polished',\n",
       " 'laughs',\n",
       " 'family',\n",
       " 'next',\n",
       " 'professional',\n",
       " 'vividly',\n",
       " 'exceptional',\n",
       " 'motivate',\n",
       " 'rich',\n",
       " 'confidence',\n",
       " 'hearts',\n",
       " 'friendship',\n",
       " 'stylized',\n",
       " 'deliciously',\n",
       " 'vintage',\n",
       " 'charming',\n",
       " 'suspenseful',\n",
       " 'attractive',\n",
       " 'suitable',\n",
       " 'enjoyed',\n",
       " 'rarest',\n",
       " 'delivers',\n",
       " 'writer/director',\n",
       " 'jaw-dropping',\n",
       " 'wiseman',\n",
       " 'quietly',\n",
       " 'throughout',\n",
       " 'succeeds',\n",
       " 'sensibility',\n",
       " 'relief',\n",
       " 'casts',\n",
       " 'memorable',\n",
       " 'funniest',\n",
       " 'moving',\n",
       " 'mesmerizing',\n",
       " 'pitch-perfect',\n",
       " 'well-written',\n",
       " 'blockbuster',\n",
       " 'surefire',\n",
       " 'wallop',\n",
       " 'iconic',\n",
       " 'wedding',\n",
       " 'noteworthy',\n",
       " 'sobering',\n",
       " 'pleasantly',\n",
       " 'profundity',\n",
       " 'food-for-thought',\n",
       " 'wholly',\n",
       " 'captivates',\n",
       " 'convincing',\n",
       " 'thrillingly',\n",
       " 'valuable',\n",
       " 'rewarding',\n",
       " 'generous',\n",
       " 'environments',\n",
       " 'wonderfully',\n",
       " 'hilarious',\n",
       " 'ambition',\n",
       " 'spielberg',\n",
       " 'miracle',\n",
       " 'canny',\n",
       " 'first-rate',\n",
       " 'niche',\n",
       " 'foremost',\n",
       " 'effortlessly',\n",
       " 'impressive',\n",
       " 'dazzling',\n",
       " 'sheer',\n",
       " 'evocative',\n",
       " 'amazing',\n",
       " 'vivid',\n",
       " 'cute',\n",
       " 'celebrate',\n",
       " 'outstanding',\n",
       " 'beautiful',\n",
       " 'keen',\n",
       " 'escort',\n",
       " 'french',\n",
       " 'craft',\n",
       " 'enduring',\n",
       " 'gods',\n",
       " 'songs',\n",
       " 'flashes',\n",
       " 'rock-solid',\n",
       " 'enigmatic',\n",
       " 'top-notch',\n",
       " 'original',\n",
       " 'lightness',\n",
       " 'masterpiece',\n",
       " 'astronauts',\n",
       " 'pleasures',\n",
       " 'finesse',\n",
       " 'wonderful',\n",
       " 'played',\n",
       " 'advises',\n",
       " 'roles',\n",
       " 'pleasure',\n",
       " 'phenomenal',\n",
       " 'encourage',\n",
       " 'gut-wrenching',\n",
       " 'touching',\n",
       " 'honesty',\n",
       " 'faithful',\n",
       " 'success',\n",
       " 'medium',\n",
       " 'breathtaking',\n",
       " 'derrida',\n",
       " 'odyssey',\n",
       " 'sympathetic',\n",
       " 'careers',\n",
       " 'unique',\n",
       " 'compelling',\n",
       " 'kindness',\n",
       " 'gifted',\n",
       " 'trek',\n",
       " 'spectacular',\n",
       " 'visuals',\n",
       " 'grace',\n",
       " 'thrill',\n",
       " 'charmer',\n",
       " 'fresh',\n",
       " 'integrity',\n",
       " 'delivering',\n",
       " 'reefs',\n",
       " 'remarkably',\n",
       " 'stamina',\n",
       " 'comfort',\n",
       " 'sensual',\n",
       " 'presents',\n",
       " 'strong',\n",
       " 'landscapes',\n",
       " 'subtly',\n",
       " 'remarkable',\n",
       " 'inventive',\n",
       " 'career-defining',\n",
       " 'very',\n",
       " 'superb',\n",
       " 'bringing',\n",
       " 'infuses',\n",
       " 'self-discovery',\n",
       " 'coen',\n",
       " 'solid',\n",
       " 'captivating',\n",
       " 'stunning',\n",
       " 'shines',\n",
       " 'auspicious',\n",
       " 'principled',\n",
       " 'shining',\n",
       " 'glow',\n",
       " 'passion',\n",
       " 'sharp',\n",
       " 'lovely',\n",
       " 'satisfyingly',\n",
       " 'worth',\n",
       " 'comedic',\n",
       " 'vision',\n",
       " 'enables',\n",
       " 'propulsive',\n",
       " 'worthwhile',\n",
       " 'skill',\n",
       " 'fabulous',\n",
       " 'portrait',\n",
       " 'perceptiveness',\n",
       " 'grown-up',\n",
       " 'heartwarming',\n",
       " 'enthusiastic',\n",
       " 'pleasant',\n",
       " 'huston',\n",
       " 'sportsmen',\n",
       " 'wide',\n",
       " 'buoy',\n",
       " 'clooney',\n",
       " 'oomph',\n",
       " 'skills',\n",
       " 'stirring',\n",
       " 'twists',\n",
       " 'acclaimed',\n",
       " 'smartly',\n",
       " 'whale',\n",
       " 'challenging',\n",
       " 'assurance',\n",
       " 'elegant',\n",
       " 'won',\n",
       " 'delightful',\n",
       " 'venturesome',\n",
       " 'spare',\n",
       " 'exquisite',\n",
       " 'rare',\n",
       " 'pleasurable',\n",
       " 'celebration',\n",
       " 'craftsmen',\n",
       " 'comedy',\n",
       " 'talented',\n",
       " 'sparkles',\n",
       " 'devotion',\n",
       " 'intimate',\n",
       " 'joy',\n",
       " 'undeniable',\n",
       " 'constant',\n",
       " 'accomplish',\n",
       " 'true',\n",
       " 'delicious',\n",
       " 'excels',\n",
       " 'luscious',\n",
       " 'nominated',\n",
       " 'irresistible',\n",
       " 'affectionate',\n",
       " 'excellent',\n",
       " 'heart-wrenching',\n",
       " 'powerful',\n",
       " 'kidman',\n",
       " 'jolly',\n",
       " 'unpretentious',\n",
       " 'considerable',\n",
       " 'daring',\n",
       " 'enjoyable',\n",
       " 'winning',\n",
       " 'informative',\n",
       " 'breathtakingly',\n",
       " 'ably',\n",
       " 'greatest',\n",
       " 'articulate',\n",
       " 'gorgeous',\n",
       " 'souls',\n",
       " 'heart-warming',\n",
       " 'amiable',\n",
       " 'preciseness',\n",
       " 'affirming',\n",
       " 'catapulting',\n",
       " 'successful',\n",
       " 'epic',\n",
       " 'seeing',\n",
       " 'tender',\n",
       " 'delight',\n",
       " 'manner',\n",
       " 'deft',\n",
       " 'majestic',\n",
       " 'respect',\n",
       " 'sexy',\n",
       " 'hooks',\n",
       " 'grown-ups',\n",
       " 'passionate',\n",
       " 'skillful',\n",
       " 'champion',\n",
       " 'suitably',\n",
       " 'startling',\n",
       " 'fine',\n",
       " 'fire-breathing',\n",
       " 'perfectly',\n",
       " 'significance',\n",
       " 'explores',\n",
       " 'talent',\n",
       " 'brown',\n",
       " 'ahead',\n",
       " 'addressing',\n",
       " 'master',\n",
       " 'environment',\n",
       " 'real',\n",
       " 'delicate',\n",
       " 'demonstrates',\n",
       " 'alluring',\n",
       " 'bourne',\n",
       " 'fuzzy',\n",
       " 'high-end',\n",
       " 'bold',\n",
       " 'fascinating',\n",
       " 'efficiently',\n",
       " 'inspiration',\n",
       " 'reminds',\n",
       " 'moviegoing',\n",
       " 'greatness',\n",
       " 'heart',\n",
       " 'our',\n",
       " 'finely',\n",
       " 'impress',\n",
       " 'classic',\n",
       " 'treat',\n",
       " 'expressive',\n",
       " 'treasure',\n",
       " 'courage',\n",
       " 'confident',\n",
       " 'classy',\n",
       " 'authentic',\n",
       " 'achieving',\n",
       " 'graceful',\n",
       " 'great',\n",
       " 'spirit',\n",
       " 'luminous',\n",
       " 'ninth',\n",
       " 'consistency',\n",
       " 'son',\n",
       " 'touchstone',\n",
       " 'finest',\n",
       " 'timeless',\n",
       " 'cast',\n",
       " 'entertained',\n",
       " 'happiness',\n",
       " 'down-home',\n",
       " 'sets',\n",
       " 'pictures',\n",
       " 'believable',\n",
       " 'joyous',\n",
       " 'berry',\n",
       " 'bring',\n",
       " 'tenth',\n",
       " 'funky',\n",
       " 'shainberg',\n",
       " 'refreshing',\n",
       " 'elevates',\n",
       " 'postmodern',\n",
       " 'spirits',\n",
       " 'encouraging',\n",
       " 'vibrant',\n",
       " 'sensitive',\n",
       " 'uncommonly',\n",
       " 'holofcener',\n",
       " 'decisive',\n",
       " 'lane',\n",
       " 'devices',\n",
       " 'nachtwey',\n",
       " 'appealing',\n",
       " 'power',\n",
       " 'survival',\n",
       " 'understands',\n",
       " 'energetic',\n",
       " 'flawless',\n",
       " 'profound',\n",
       " 'freshness',\n",
       " 'embraces',\n",
       " 'chimes',\n",
       " 'timely',\n",
       " 'loving',\n",
       " 'illuminating',\n",
       " 'healing',\n",
       " 'bouquet',\n",
       " 'nature',\n",
       " 'captures',\n",
       " 'realistic',\n",
       " 'rollicking',\n",
       " 'romantic',\n",
       " 'rediscover',\n",
       " 'interesting',\n",
       " 'fontaine',\n",
       " 'sublime',\n",
       " 'behold',\n",
       " 'creative',\n",
       " 'masterful',\n",
       " 'talents',\n",
       " 'lovers',\n",
       " 'huppert',\n",
       " 'wondrously',\n",
       " 'likes',\n",
       " 'feature-length',\n",
       " 'action-packed',\n",
       " 'smart',\n",
       " 'rhythm',\n",
       " 'crisp',\n",
       " 'fantastic',\n",
       " 'philosophical',\n",
       " 'amicable',\n",
       " 'washington',\n",
       " 'reynolds',\n",
       " 'feast',\n",
       " 'witty',\n",
       " 'bouncy',\n",
       " 'gentle',\n",
       " 'honest',\n",
       " 'dream',\n",
       " 'artful',\n",
       " 'stuart',\n",
       " 'brave',\n",
       " 'bronze',\n",
       " 'establishes',\n",
       " 'intriguing',\n",
       " 'terrific',\n",
       " 'humor',\n",
       " 'directorial',\n",
       " 'good',\n",
       " 'marvelous',\n",
       " 'cat-and-mouse',\n",
       " 'adventurous',\n",
       " 'layered',\n",
       " 'most',\n",
       " 'accomplished',\n",
       " 'slickly',\n",
       " 'brightly',\n",
       " 'masterfully',\n",
       " 'listen',\n",
       " 'keeping',\n",
       " 'openness',\n",
       " 'flavorful',\n",
       " 'dazzle',\n",
       " 'propels',\n",
       " 'strength',\n",
       " 'richly',\n",
       " 'imax',\n",
       " 'definitely',\n",
       " 'melancholy',\n",
       " 'sly',\n",
       " 'satisfying',\n",
       " 'robust',\n",
       " 'super',\n",
       " 'wondrous',\n",
       " 'invaluable',\n",
       " 'warmth',\n",
       " 'ingenious',\n",
       " 'popcorn',\n",
       " 'sundance',\n",
       " 'refreshingly',\n",
       " 'delectable',\n",
       " 'irresistibly',\n",
       " 'flow',\n",
       " 'surprise',\n",
       " 'extraordinary',\n",
       " 'brilliant',\n",
       " 'immensely',\n",
       " 'backgrounds',\n",
       " 'choosing',\n",
       " 'stanley',\n",
       " 'tremendous',\n",
       " 'imaginative',\n",
       " 'generosity',\n",
       " 'thinkers',\n",
       " 'unforgettable',\n",
       " 'major-league',\n",
       " 'pellington',\n",
       " 'transforms',\n",
       " 'well-deserved',\n",
       " 'stylish',\n",
       " 'shine',\n",
       " 'serenity',\n",
       " 'graham',\n",
       " 'mix',\n",
       " 'loved',\n",
       " 'wholesome',\n",
       " 'energy',\n",
       " 'peace',\n",
       " 'marvelously']"
      ]
     },
     "execution_count": 32,
     "metadata": {},
     "output_type": "execute_result"
    }
   ],
   "source": [
    "# ex: superb brilliant perfectly excellent happiness happiness incredible outstanding tasteful\n",
    "\n",
    "list(set(positive_words))"
   ]
  },
  {
   "cell_type": "markdown",
   "metadata": {},
   "source": [
    "#### negative words: "
   ]
  },
  {
   "cell_type": "code",
   "execution_count": 33,
   "metadata": {
    "scrolled": true
   },
   "outputs": [
    {
     "data": {
      "text/plain": [
       "['dissing',\n",
       " 'stealing',\n",
       " 'choppy',\n",
       " 'dragged',\n",
       " 'clichéd',\n",
       " 'puddle',\n",
       " 'intolerable',\n",
       " 'bolt',\n",
       " 'obscure',\n",
       " 'poor',\n",
       " 'irresponsible',\n",
       " 'insignificance',\n",
       " 'cheapo',\n",
       " 'copy',\n",
       " 'off-putting',\n",
       " 'haphazard',\n",
       " 'double-barreled',\n",
       " 'lifeless',\n",
       " 'inept',\n",
       " 'insulting',\n",
       " 'numbingly',\n",
       " 'lame',\n",
       " 'leash',\n",
       " 'parking',\n",
       " 'stupid',\n",
       " 'sordid',\n",
       " 'absurdly',\n",
       " 'atrociously',\n",
       " 'embarrassingly',\n",
       " 'garbage',\n",
       " 'schedule',\n",
       " 'undone',\n",
       " 'hypocritical',\n",
       " 'stinker',\n",
       " 'sociopathy',\n",
       " 'gang-raped',\n",
       " 'unfocused',\n",
       " 'substandard',\n",
       " 'cheesier',\n",
       " 'ailments',\n",
       " 'horribly',\n",
       " 'maudlin',\n",
       " 'untalented',\n",
       " 'ineffective',\n",
       " 'pileup',\n",
       " 'deficit',\n",
       " 'insultingly',\n",
       " 'pit',\n",
       " 'unmotivated',\n",
       " 'sluggish',\n",
       " 'malaise',\n",
       " 'irritating',\n",
       " 'shriveled',\n",
       " 'sentence',\n",
       " 'lackluster',\n",
       " 'bleak',\n",
       " 'vague',\n",
       " 'bogus',\n",
       " 'distanced',\n",
       " 'mistake',\n",
       " 'waste',\n",
       " 'shapeless',\n",
       " 'foul-mouthed',\n",
       " 'ludicrous',\n",
       " 'sabotaged',\n",
       " 'sickening',\n",
       " 'embarrassment',\n",
       " 'toilet',\n",
       " 'laziness',\n",
       " 'inevitable',\n",
       " 'wimps',\n",
       " 'overplayed',\n",
       " 'questionable',\n",
       " 'distasteful',\n",
       " 'preposterous',\n",
       " 'insufferable',\n",
       " 'mawkish',\n",
       " 'piss',\n",
       " 'milquetoast',\n",
       " 'exaggeration',\n",
       " 'smeary',\n",
       " 'hack',\n",
       " 'remotely',\n",
       " 'deathly',\n",
       " 'porridge',\n",
       " 'unattractive',\n",
       " 'hole',\n",
       " 'fudged',\n",
       " 'preachy',\n",
       " 'unimaginatively',\n",
       " 'numbing',\n",
       " 'sour',\n",
       " 'obnoxiously',\n",
       " 'impersonal',\n",
       " 'hangover',\n",
       " 'staring',\n",
       " 'insufferably',\n",
       " 'overwritten',\n",
       " 'choppiness',\n",
       " 'paper-thin',\n",
       " 'squabbling',\n",
       " 'junk',\n",
       " 'bilked',\n",
       " 'awkward',\n",
       " 'unclean',\n",
       " 'flat',\n",
       " 'loose',\n",
       " 'listless',\n",
       " 'bloated',\n",
       " 'clunky',\n",
       " 'marred',\n",
       " 'needlessly',\n",
       " 'inauthentic',\n",
       " 'exasperated',\n",
       " 'shallow',\n",
       " 'arbitrary',\n",
       " 'abrupt',\n",
       " 'lousy',\n",
       " 'lapses',\n",
       " 'foolish',\n",
       " 'implausible',\n",
       " 'unexplained',\n",
       " 'delinquent',\n",
       " 'suffers',\n",
       " 'boring',\n",
       " 'thrown',\n",
       " 'delay',\n",
       " 'flimsy',\n",
       " 'miserable',\n",
       " '15-year',\n",
       " 'cobbled',\n",
       " 'worse',\n",
       " 'incoherence',\n",
       " 'tolerate',\n",
       " 'disappointments',\n",
       " 'crummy',\n",
       " 'inadvertent',\n",
       " 'woefully',\n",
       " 'ripoff',\n",
       " 'stubbornly',\n",
       " 'excruciating',\n",
       " 'ransacked',\n",
       " 'limp',\n",
       " 'repetitive',\n",
       " 'let-down',\n",
       " 'gimmicky',\n",
       " 'badly',\n",
       " 'venality',\n",
       " 'excesses',\n",
       " 'disaster',\n",
       " 'unfulfilling',\n",
       " 'astray',\n",
       " 'illogical',\n",
       " 'tired',\n",
       " 'irrelevant',\n",
       " 'tacky',\n",
       " 'overdone',\n",
       " 'dud',\n",
       " 'flatulence',\n",
       " 'indifferent',\n",
       " 'dreck',\n",
       " 'phony',\n",
       " 'amateurish',\n",
       " 'muddled',\n",
       " 'witless',\n",
       " 'cracked',\n",
       " 'stiff',\n",
       " 'thinly',\n",
       " 'fussy',\n",
       " 'one-sided',\n",
       " 'stumbles',\n",
       " 'vapid',\n",
       " 'bore',\n",
       " 'worthless',\n",
       " 'shrug',\n",
       " 'sloppily',\n",
       " 'moronic',\n",
       " 'italicized',\n",
       " 'irreparable',\n",
       " 'insults',\n",
       " 'hastily',\n",
       " 'distressingly',\n",
       " 'sloppiness',\n",
       " 'drowned',\n",
       " 'letdown',\n",
       " 'doze',\n",
       " 'monotonous',\n",
       " 'bored',\n",
       " 'puerile',\n",
       " 'worn-out',\n",
       " 'soggy',\n",
       " 'sappy',\n",
       " 'pawn',\n",
       " 'split',\n",
       " 'ugly',\n",
       " 'afterthought',\n",
       " 'whining',\n",
       " 'pocket',\n",
       " 'lameness',\n",
       " 'moat',\n",
       " 'sputters',\n",
       " 'bitter',\n",
       " 'disappointingly',\n",
       " 'annoyed',\n",
       " 'unnecessary',\n",
       " 'idiotic',\n",
       " 'worst',\n",
       " 'tiresome',\n",
       " 'unconvincing',\n",
       " 'impassive',\n",
       " 'depressing',\n",
       " 'pointless',\n",
       " 'poorly',\n",
       " 'disposable',\n",
       " 'britney',\n",
       " 'unfunny',\n",
       " 'hideously',\n",
       " 'redundancies',\n",
       " 'disintegrating',\n",
       " 'bitten',\n",
       " 'redundant',\n",
       " 'flop',\n",
       " 'cheapened',\n",
       " 'rehash',\n",
       " 'mess',\n",
       " 'undercut',\n",
       " 'unsympathetic',\n",
       " 'insult',\n",
       " 'undermined',\n",
       " 'rigidly',\n",
       " 'awkwardly',\n",
       " 'surrender',\n",
       " 'bother',\n",
       " 'stale']"
      ]
     },
     "execution_count": 33,
     "metadata": {},
     "output_type": "execute_result"
    }
   ],
   "source": [
    "# ex: unlikable lifeless poorly pointless stupid absurdly distasteful garbage sexist trash\n",
    "\n",
    "list(set(negative_words))"
   ]
  },
  {
   "cell_type": "markdown",
   "metadata": {},
   "source": [
    "## Perturbation-based explanation (leave-one-out)"
   ]
  },
  {
   "cell_type": "markdown",
   "metadata": {},
   "source": [
    "This approach have been presented by (Wallace et al., 2020) in their tutorial. It is a simple method that defines the importance as a drop in prediction when the feature is removed. The approach is described in the following image from Wallace et al. 'S tutorial slide."
   ]
  },
  {
   "cell_type": "markdown",
   "metadata": {},
   "source": [
    "<p align=\"center\">\n",
    "  <img src=\"images/leave_one_out.PNG\" width=\"500\" />\n",
    "</p>"
   ]
  },
  {
   "cell_type": "markdown",
   "metadata": {},
   "source": [
    "**Hohman et al.'s human-centered interrogative framework**:\n",
    "\n",
    "    - Why:\n",
    "        - Interpretability and explainability\n",
    "        - Detecting bias in the dataset/model\n",
    "\n",
    "    - What:\n",
    "        - The model's prediction score\n",
    "\n",
    "    - When:\n",
    "        - After training\n",
    "\n",
    "    - Who:\n",
    "        - Model developers\n",
    "        - Model Users\n",
    "        - Non-experts\n",
    "\n",
    "    - How:\n",
    "        - Visualize feature importance using saliency maps\n",
    "        \n",
    "    - Where:\n",
    "        - Application domains        "
   ]
  },
  {
   "cell_type": "code",
   "execution_count": 34,
   "metadata": {},
   "outputs": [],
   "source": [
    "def score_each_word(text: str, model: nn.Module=model):\n",
    "    \n",
    "    x, _ = transform_text(text)\n",
    "    \n",
    "    score_text, _ = predict(x, model)\n",
    "    \n",
    "    var = []\n",
    "    \n",
    "    tokens = text.split()\n",
    "    \n",
    "    for i in range(len(tokens)):\n",
    "                \n",
    "        var.append((tokens[i], ' '.join([w for (k, w) in enumerate(tokens) if k!=i])))\n",
    "    \n",
    "    scores = []\n",
    "    \n",
    "    for pairs in var:\n",
    "        \n",
    "        x, _ = transform_text(pairs[1])\n",
    "        \n",
    "        score_w, _ = predict(x, model)\n",
    "        \n",
    "        sc = score_text - score_w\n",
    "        \n",
    "        scores.append((pairs[0], sc))\n",
    "        \n",
    "    return scores, score_text"
   ]
  },
  {
   "cell_type": "code",
   "execution_count": 35,
   "metadata": {},
   "outputs": [],
   "source": [
    "# @interact(text='the movie is not bad')\n",
    "def explain_by_perturbation(text: str):\n",
    "    \n",
    "    model.cpu()\n",
    "    model.eval() # eval mode\n",
    "    \n",
    "    scores, score_text = score_each_word(text, model)\n",
    "    \n",
    "    if score_text > 0.5:\n",
    "        print(f'positive => {score_text: 0.3f}')\n",
    "    \n",
    "    else:\n",
    "        print(f'negative => {score_text: 0.3f}')\n",
    "    \n",
    "    arr = np.array(\n",
    "        [el[1] for el in scores]\n",
    "    ).reshape(1, -1)\n",
    "\n",
    "    y = [el[0] for el in scores]\n",
    "    \n",
    "    heatmap = pd.DataFrame(data = arr, columns=y)\n",
    "\n",
    "    plt.figure(figsize=(20, 2))\n",
    "\n",
    "    sns.heatmap(heatmap, annot=True, yticklabels=False, cmap='Reds')"
   ]
  },
  {
   "cell_type": "code",
   "execution_count": 36,
   "metadata": {},
   "outputs": [
    {
     "name": "stdout",
     "output_type": "stream",
     "text": [
      "negative =>  0.000\n"
     ]
    },
    {
     "data": {
      "image/png": "[encoded data removed]",
      "text/plain": [
       "<Figure size 1440x144 with 2 Axes>"
      ]
     },
     "metadata": {
      "needs_background": "light"
     },
     "output_type": "display_data"
    }
   ],
   "source": [
    "explain_by_perturbation('the movie was not good')"
   ]
  },
  {
   "cell_type": "markdown",
   "metadata": {},
   "source": [
    "## Gradient-based explanation"
   ]
  },
  {
   "cell_type": "markdown",
   "metadata": {},
   "source": [
    "This approach estimate the importance of a word by using the derivative of the output with respect to the embedding of that word. In our experiment, we compute the L2 norm of this gradient to obtain the word importance but better approaches are available in the literature."
   ]
  },
  {
   "cell_type": "markdown",
   "metadata": {},
   "source": [
    "**Hohman et al.'s human-centered interrogative framework**:\n",
    "\n",
    "    - Why:\n",
    "        - Interpretability and explainability\n",
    "        - Detecting bias in the dataset/model\n",
    "\n",
    "    - What:\n",
    "        - There L2 norm of the gradient output with respect to the inputs (word embedding)\n",
    "\n",
    "    - When:\n",
    "        - After training\n",
    "\n",
    "    - Who:\n",
    "        - Model developers\n",
    "        - Model Users\n",
    "        - Non-experts\n",
    "\n",
    "    - How:\n",
    "        - Visualize feature importance using saliency maps\n",
    "\n",
    "    - Where:\n",
    "        - Application domains"
   ]
  },
  {
   "cell_type": "code",
   "execution_count": 37,
   "metadata": {},
   "outputs": [],
   "source": [
    "def get_emb_grad(x: torch.LongTensor, model: nn.Module=model):\n",
    "    \n",
    "    embed_grad = []\n",
    "    \n",
    "    def grad_hook(module, grad_in, grad_out):\n",
    "        embed_grad.append(grad_out[0].squeeze())\n",
    "        \n",
    "    embedding_layer = model.encode.embedding\n",
    "    \n",
    "    handle = embedding_layer.register_backward_hook(grad_hook)\n",
    "        \n",
    "    y, *_ = model(x)\n",
    "    \n",
    "    y.backward()\n",
    "    \n",
    "    handle.remove()\n",
    "        \n",
    "    grad_norm = embed_grad[0].norm(2, dim=1)    \n",
    "    \n",
    "    if y.item() > 0.5:\n",
    "        print(f'positive => {y.item(): 0.3f}')\n",
    "    \n",
    "    else:\n",
    "        print(f'negative => {y.item(): 0.3f}')\n",
    "        \n",
    "    return grad_norm"
   ]
  },
  {
   "cell_type": "code",
   "execution_count": 38,
   "metadata": {},
   "outputs": [],
   "source": [
    "#@interact(text='the movie is not bad')\n",
    "def explain_with_gradient(text: str):\n",
    "    \n",
    "    model.cpu()\n",
    "    model.eval() # eval mode\n",
    "    \n",
    "    sequence = sent2ids(text.lower()) # convert to ids\n",
    "    \n",
    "    seq_torch, word_sequence = transform_text(text)\n",
    "    \n",
    "    normalized_grad_norm = get_emb_grad(seq_torch, model).numpy()\n",
    "    \n",
    "    heatmap = pd.DataFrame(data =  normalized_grad_norm.reshape(1, -1), columns=word_sequence)\n",
    "\n",
    "    plt.figure(figsize=(20, 2))\n",
    "    \n",
    "    sns.heatmap(heatmap, annot=True, yticklabels=False, cmap='Reds')"
   ]
  },
  {
   "cell_type": "code",
   "execution_count": 39,
   "metadata": {},
   "outputs": [
    {
     "name": "stdout",
     "output_type": "stream",
     "text": [
      "negative =>  0.000\n"
     ]
    },
    {
     "data": {
      "image/png": "[encoded data removed]",
      "text/plain": [
       "<Figure size 1440x144 with 2 Axes>"
      ]
     },
     "metadata": {
      "needs_background": "light"
     },
     "output_type": "display_data"
    }
   ],
   "source": [
    "explain_with_gradient('this is a bad movie')"
   ]
  },
  {
   "cell_type": "markdown",
   "metadata": {},
   "source": [
    "### References"
   ]
  },
  {
   "cell_type": "markdown",
   "metadata": {},
   "source": [
    "* **EMNLP 2020 Tutorial** on Interpreting Predictions of NLP Models (Eric Wallace, Matt Gardner, Sameer Singh)\n",
    "    * https://www.youtube.com/watch?v=gprIzglUW1s&t=3384s \n",
    "* **NeurIPS 2020 Tutorial** on Explaining ML Predictions: State-of-the-art, Challenges, and Opportunities (Himabindu Lakkaraju, Julius Adebayo, Sameer Singh)\n",
    "    * https://www.youtube.com/watch?v=EbpU4p_0hes&t=6900s\n",
    "* A Survey of the State of Explainable AI for Natural Language Processing (Danilevsky et al., 2020)\n",
    "* A Diagnostic Study of Explainability Techniques for Text Classification (Atanasova et al., 2020)\n",
    "* Attention is not explanation (Jain and Wallace, 2019)\n",
    "* Attention is not not explanation (Wiegreffe and Pinter, 2019)\n",
    "* Neural Machine Translation by Jointly Learning to Align and Translate (Bahdanau et al., 2015)\n",
    "* Attention Is All You Need (Vaswani et al., 2017)"
   ]
  },
  {
   "cell_type": "code",
   "execution_count": null,
   "metadata": {},
   "outputs": [],
   "source": []
  }
 ],
 "metadata": {
  "kernelspec": {
   "display_name": "Python 3",
   "language": "python",
   "name": "python3"
  },
  "language_info": {
   "codemirror_mode": {
    "name": "ipython",
    "version": 3
   },
   "file_extension": ".py",
   "mimetype": "text/x-python",
   "name": "python",
   "nbconvert_exporter": "python",
   "pygments_lexer": "ipython3",
   "version": "3.7.6"
  }
 },
 "nbformat": 4,
 "nbformat_minor": 4
}
